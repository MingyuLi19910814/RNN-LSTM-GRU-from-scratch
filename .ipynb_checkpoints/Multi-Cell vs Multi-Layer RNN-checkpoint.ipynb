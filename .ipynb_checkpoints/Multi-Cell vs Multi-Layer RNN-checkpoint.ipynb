{
 "cells": [
  {
   "cell_type": "markdown",
   "id": "e6e981b9",
   "metadata": {},
   "source": [
    "# Multi-Cell RNN"
   ]
  },
  {
   "cell_type": "code",
   "execution_count": 1,
   "id": "67664924",
   "metadata": {},
   "outputs": [],
   "source": [
    "import os\n",
    "os.environ['TF_CPP_MIN_LOG_LEVEL'] = '3'\n",
    "import tensorflow as tf\n",
    "import numpy as np"
   ]
  },
  {
   "cell_type": "code",
   "execution_count": 2,
   "id": "8051aaca",
   "metadata": {},
   "outputs": [],
   "source": [
    "# define some parameters\n",
    "BATCH_SIZE = 2\n",
    "SEQ_LEN = 3\n",
    "INPUT_SIZE = 4\n",
    "HIDDEN_SIZE_1 = 2\n",
    "HIDDEN_SIZE_2 = 3"
   ]
  },
  {
   "cell_type": "code",
   "execution_count": 3,
   "id": "dc32f20f",
   "metadata": {},
   "outputs": [],
   "source": [
    "input_tensor = np.random.randn(BATCH_SIZE, SEQ_LEN, INPUT_SIZE).astype(np.float32)\n",
    "w_ih_1 = np.random.randn(INPUT_SIZE, HIDDEN_SIZE_1).astype(np.float32)\n",
    "w_hh_1 = np.random.randn(HIDDEN_SIZE_1, HIDDEN_SIZE_1).astype(np.float32)\n",
    "b_1 = np.random.randn(HIDDEN_SIZE_1).astype(np.float32)\n",
    "\n",
    "w_ih_2 = np.random.randn(HIDDEN_SIZE_1, HIDDEN_SIZE_2).astype(np.float32)\n",
    "w_hh_2 = np.random.randn(HIDDEN_SIZE_2, HIDDEN_SIZE_2).astype(np.float32)\n",
    "b_2 = np.random.randn(HIDDEN_SIZE_2).astype(np.float32)"
   ]
  },
  {
   "cell_type": "code",
   "execution_count": 4,
   "id": "fc41dfcb",
   "metadata": {},
   "outputs": [
    {
     "name": "stdout",
     "output_type": "stream",
     "text": [
      "tf.Tensor(\n",
      "[[-0.9998453   0.9383833   0.44583783]\n",
      " [-0.9999621   0.99910057  0.96001154]], shape=(2, 3), dtype=float32)\n"
     ]
    }
   ],
   "source": [
    "def multi_cell_rnn(input_, w_ih_1_, w_hh_1_, b_1_, w_ih_2_, w_hh_2_, b_2_):\n",
    "    cell1 = tf.keras.layers.SimpleRNNCell(HIDDEN_SIZE_1)\n",
    "    cell2 = tf.keras.layers.SimpleRNNCell(HIDDEN_SIZE_2)\n",
    "    multi_cell_rnn = tf.keras.layers.RNN([cell1, cell2])\n",
    "    inputs = tf.keras.layers.Input(shape=(SEQ_LEN, INPUT_SIZE), dtype=tf.float32)\n",
    "    outputs = multi_cell_rnn(inputs)\n",
    "    model = tf.keras.Model(inputs, outputs)\n",
    "    multi_cell_rnn.set_weights([w_ih_1_, w_hh_1_, b_1_, w_ih_2_, w_hh_2_, b_2_])\n",
    "    return model(input_)\n",
    "\n",
    "multi_cell_output = multi_cell_rnn(input_tensor, w_ih_1, w_hh_1, b_1, w_ih_2, w_hh_2, b_2)\n",
    "print(multi_cell_output)"
   ]
  },
  {
   "cell_type": "code",
   "execution_count": 5,
   "id": "8b16d1be",
   "metadata": {},
   "outputs": [
    {
     "name": "stdout",
     "output_type": "stream",
     "text": [
      "tf.Tensor(\n",
      "[[-0.9998453   0.9383833   0.44583783]\n",
      " [-0.9999621   0.99910057  0.96001154]], shape=(2, 3), dtype=float32)\n"
     ]
    }
   ],
   "source": [
    "def multi_layer_rnn(input_, w_ih_1_, w_hh_1_, b_1_, w_ih_2_, w_hh_2_, b_2_):\n",
    "    inputs = tf.keras.layers.Input(shape=(SEQ_LEN, INPUT_SIZE), dtype=tf.float32)\n",
    "    layer1 = tf.keras.layers.SimpleRNN(HIDDEN_SIZE_1, return_sequences=True)\n",
    "    layer2 = tf.keras.layers.SimpleRNN(HIDDEN_SIZE_2)    \n",
    "    x = layer1(inputs)\n",
    "    x = layer2(x)\n",
    "    model = tf.keras.Model(inputs, x)\n",
    "    layer1.set_weights([w_ih_1_, w_hh_1_, b_1_])\n",
    "    layer2.set_weights([w_ih_2_, w_hh_2_, b_2_])\n",
    "    return model(input_)\n",
    "\n",
    "multi_layer_output = multi_layer_rnn(input_tensor, w_ih_1, w_hh_1, b_1, w_ih_2, w_hh_2, b_2)\n",
    "print(multi_layer_output)"
   ]
  },
  {
   "cell_type": "code",
   "execution_count": 6,
   "id": "90006185",
   "metadata": {},
   "outputs": [
    {
     "name": "stdout",
     "output_type": "stream",
     "text": [
      "True\n"
     ]
    }
   ],
   "source": [
    "print(np.allclose(multi_cell_output, multi_layer_output))"
   ]
  },
  {
   "cell_type": "code",
   "execution_count": null,
   "id": "8e732756",
   "metadata": {},
   "outputs": [],
   "source": []
  }
 ],
 "metadata": {
  "kernelspec": {
   "display_name": "Python 3 (ipykernel)",
   "language": "python",
   "name": "python3"
  },
  "language_info": {
   "codemirror_mode": {
    "name": "ipython",
    "version": 3
   },
   "file_extension": ".py",
   "mimetype": "text/x-python",
   "name": "python",
   "nbconvert_exporter": "python",
   "pygments_lexer": "ipython3",
   "version": "3.8.5"
  }
 },
 "nbformat": 4,
 "nbformat_minor": 5
}
