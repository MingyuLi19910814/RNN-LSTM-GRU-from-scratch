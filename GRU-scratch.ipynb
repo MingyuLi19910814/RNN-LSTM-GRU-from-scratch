{
 "cells": [
  {
   "cell_type": "code",
   "execution_count": 131,
   "id": "906a2f1f",
   "metadata": {},
   "outputs": [],
   "source": [
    "import numpy as np\n",
    "import os\n",
    "os.environ['TF_CPP_MIN_LOG_LEVEL'] = '3'\n",
    "import tensorflow as tf"
   ]
  },
  {
   "cell_type": "code",
   "execution_count": 132,
   "id": "4475ff71",
   "metadata": {},
   "outputs": [],
   "source": [
    "INPUT_SIZE = 2\n",
    "SEQ_LEN = 1\n",
    "HIDDEN_SIZE = 3\n",
    "BATCH_SIZE = 4"
   ]
  },
  {
   "cell_type": "code",
   "execution_count": 133,
   "id": "bf2a0004",
   "metadata": {},
   "outputs": [],
   "source": [
    "input_tensor = np.random.randn(BATCH_SIZE, SEQ_LEN, INPUT_SIZE).astype(np.float32)\n",
    "kernel = np.random.randn(INPUT_SIZE, 3 * HIDDEN_SIZE).astype(np.float32)\n",
    "recurrent_kernel = np.random.randn(HIDDEN_SIZE, 3 * HIDDEN_SIZE).astype(np.float32)"
   ]
  },
  {
   "cell_type": "code",
   "execution_count": 134,
   "id": "de29c372",
   "metadata": {},
   "outputs": [
    {
     "name": "stdout",
     "output_type": "stream",
     "text": [
      "tf.Tensor(\n",
      "[[[-0.1105953  -0.00810354  0.25300372]]\n",
      "\n",
      " [[-0.15829751 -0.13685134 -0.16579199]]\n",
      "\n",
      " [[ 0.160389    0.29439434  0.08103199]]\n",
      "\n",
      " [[-0.2037702   0.09957132 -0.26256567]]], shape=(4, 1, 3), dtype=float32)\n"
     ]
    }
   ],
   "source": [
    "def tf_gru(input_, kernel_, recurrent_kernel_, bias_):\n",
    "    inputs = tf.keras.layers.Input(shape=(SEQ_LEN, INPUT_SIZE), dtype=tf.float32)\n",
    "    gru_layer = tf.keras.layers.GRU(HIDDEN_SIZE, return_sequences=True)\n",
    "    outputs = gru_layer(inputs)\n",
    "    model = tf.keras.Model(inputs, outputs)\n",
    "    # tensorflow has a bug in GRU that the shape of the bias is always (2, n) while it should be (n).\n",
    "    # therefore in this implement we set all bias to zero\n",
    "    gru_layer.set_weights([kernel_, recurrent_kernel_, np.zeros(gru_layer.weights[2].shape)])\n",
    "    return model(input_)\n",
    "\n",
    "tf_output = tf_gru(input_tensor, kernel, recurrent_kernel, bias)\n",
    "print(tf_output)"
   ]
  },
  {
   "cell_type": "code",
   "execution_count": 135,
   "id": "6ec38470",
   "metadata": {},
   "outputs": [
    {
     "name": "stdout",
     "output_type": "stream",
     "text": [
      "[[[-0.1105953  -0.00810354  0.25300375]]\n",
      "\n",
      " [[-0.15829751 -0.13685134 -0.16579199]]\n",
      "\n",
      " [[ 0.160389    0.29439434  0.08103199]]\n",
      "\n",
      " [[-0.2037702   0.09957132 -0.26256567]]]\n"
     ]
    }
   ],
   "source": [
    "def scratch_gru(input_, kernel_, recurrent_kernel_, bias_):\n",
    "    w_z, w_r, w_h = np.split(kernel_, 3, axis=-1)\n",
    "    r_z, r_r, r_h = np.split(recurrent_kernel_, 3, axis=-1)\n",
    "    hidden = np.zeros(shape=(BATCH_SIZE, HIDDEN_SIZE), dtype=np.float32)\n",
    "    output = np.zeros(shape=(BATCH_SIZE, SEQ_LEN, HIDDEN_SIZE), dtype=np.float32)\n",
    "    for seq_idx in range(SEQ_LEN):\n",
    "        input = input_[:, seq_idx, :]\n",
    "        gate_z = tf.math.sigmoid(tf.linalg.matmul(input, w_z) + tf.linalg.matmul(hidden, r_z))\n",
    "        gate_r = tf.math.sigmoid(tf.linalg.matmul(input, w_r) + tf.linalg.matmul(hidden, r_r))\n",
    "        hidden_hat = tf.math.tanh(tf.linalg.matmul(input, w_h) + gate_r * tf.linalg.matmul(hidden, r_h))\n",
    "        hidden = (1 - gate_z) * hidden_hat + gate_z * hidden\n",
    "        output[:, seq_idx, :] = hidden\n",
    "    return output\n",
    "\n",
    "scratch_output = scratch_gru(input_tensor, kernel, recurrent_kernel, bias)\n",
    "print(scratch_output)"
   ]
  },
  {
   "cell_type": "code",
   "execution_count": 136,
   "id": "45ab05ef",
   "metadata": {},
   "outputs": [
    {
     "name": "stdout",
     "output_type": "stream",
     "text": [
      "True\n"
     ]
    }
   ],
   "source": [
    "print(np.allclose(tf_output, scratch_output))"
   ]
  },
  {
   "cell_type": "code",
   "execution_count": null,
   "id": "61ffe203",
   "metadata": {},
   "outputs": [],
   "source": []
  }
 ],
 "metadata": {
  "kernelspec": {
   "display_name": "Python 3 (ipykernel)",
   "language": "python",
   "name": "python3"
  },
  "language_info": {
   "codemirror_mode": {
    "name": "ipython",
    "version": 3
   },
   "file_extension": ".py",
   "mimetype": "text/x-python",
   "name": "python",
   "nbconvert_exporter": "python",
   "pygments_lexer": "ipython3",
   "version": "3.8.5"
  }
 },
 "nbformat": 4,
 "nbformat_minor": 5
}
